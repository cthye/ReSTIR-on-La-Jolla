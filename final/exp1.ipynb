{
 "cells": [
  {
   "cell_type": "code",
   "execution_count": 68,
   "metadata": {},
   "outputs": [
    {
     "name": "stdout",
     "output_type": "stream",
     "text": [
      "Domain 1 integral:  40.12036409533103  std:  13.88428250210513\n",
      "estimation:  40.60762710621869 std:  2.9543376168348607\n",
      "expect:  40.59191793818661\n"
     ]
    },
    {
     "data": {
      "image/png": "[encoded data removed]",
      "text/plain": [
       "<Figure size 200x200 with 1 Axes>"
      ]
     },
     "metadata": {},
     "output_type": "display_data"
    }
   ],
   "source": [
    "import matplotlib.pyplot as plt\n",
    "import numpy as np\n",
    "save_dir = \"./final\"\n",
    "class RIS:\n",
    "    y = 0\n",
    "    w_sum = 0\n",
    "    M = 0\n",
    "    def __init__(self) -> None:\n",
    "        pass\n",
    "    def update(self, x, w):\n",
    "        \"\"\" update the reservoir\n",
    "        @param: selected x\n",
    "        @param: weight (hat_pdf(x) / pdf(x))\n",
    "        \"\"\"\n",
    "        self.w_sum = self.w_sum + w\n",
    "        self.M = self.M + 1\n",
    "        r = np.random.uniform(0, 1)\n",
    "        if r < (w / self.w_sum): \n",
    "            self.y = x\n",
    "\n",
    "plt.style.use('_mpl-gallery')\n",
    "\n",
    "\n",
    "\"\"\"\n",
    "Version1: same source pdf for the whole domain\n",
    "\"\"\"\n",
    "fig, ax = plt.subplots()\n",
    "\n",
    "# plot target pdf\n",
    "# x = np.linspace(0, 0.999, 10000)\n",
    "x = np.linspace(0, 10, 100)\n",
    "def target_pdf(x):\n",
    "    # return 2 - 2 * x \n",
    "    return (4 + 2 * np.sin(2 * x))\n",
    "\n",
    "ax.plot(x, target_pdf(x), 'g', linewidth=1)\n",
    "\n",
    "\n",
    "# plot estimator\n",
    "# sample_x = np.linspace(0, 0.999, 10000)\n",
    "M = 32\n",
    "def source_pdf(x):\n",
    "    return 1 / 10.0\n",
    "\n",
    "\n",
    "#***********************************\n",
    "#* Regular Monte Carlo integration\n",
    "#***********************************\n",
    "sample_size = 1000\n",
    "\n",
    "value = 0\n",
    "contributions = []\n",
    "for i in range(0,sample_size):\n",
    "    y = np.random.uniform(0, 10.0)\n",
    "    pdf = 1.0 / 10.0\n",
    "    c = target_pdf(y) / pdf\n",
    "    value += c\n",
    "    contributions.append(c)\n",
    "print(\"Domain 1 integral: \", value / sample_size, \" std: \", np.std(contributions))\n",
    "\n",
    "ws = np.zeros(sample_size)\n",
    "ys = np.zeros(sample_size)\n",
    "value = 0\n",
    "contribute = []\n",
    "for idx in range(0, sample_size):\n",
    "    reservoir = RIS()\n",
    "    for i in range(0, M):\n",
    "        x = np.random.uniform(0, 10) # uniform distributed\n",
    "        w = 1.0 / M * target_pdf(x) / source_pdf(x)\n",
    "        reservoir.update(x, w)\n",
    "    ys[idx] = reservoir.y\n",
    "    ws[idx] = 1 / target_pdf(reservoir.y) * reservoir.w_sum\n",
    "    value += ws[idx] * target_pdf(ys[idx])\n",
    "    contribute.append(ys[idx])\n",
    "\n",
    "print(\"estimation: \", value/sample_size, \"std: \", np.std(contribute))\n",
    "print(\"expect: \", 41 - np.cos(20))\n",
    "counts,bins = np.histogram(ys, bins=512, density=True)\n",
    "\n",
    "plt.hist(bins[:-1], weights=counts, alpha=0.5, color=\"r\", stacked=True)\n",
    "\n",
    "# ax.scatter(ys, 1 / ws, s = 0.5)\n",
    "# ax.set(xlim=(0, 10), xticks=np.arange(1, 10),\n",
    "#        ylim=(0, 8), yticks=np.arange(1, 8))\n",
    "\n",
    "plt.show()\n",
    "# plt.savefig(save_dir+\"ris_1.png\", bbox_inches=\"tight\", pad_inches=0.3)  \n",
    "\n",
    "\n"
   ]
  }
 ],
 "metadata": {
  "kernelspec": {
   "display_name": "Python 3.10.10 64-bit",
   "language": "python",
   "name": "python3"
  },
  "language_info": {
   "codemirror_mode": {
    "name": "ipython",
    "version": 3
   },
   "file_extension": ".py",
   "mimetype": "text/x-python",
   "name": "python",
   "nbconvert_exporter": "python",
   "pygments_lexer": "ipython3",
   "version": "3.10.10"
  },
  "orig_nbformat": 4,
  "vscode": {
   "interpreter": {
    "hash": "b0fa6594d8f4cbf19f97940f81e996739fb7646882a419484c72d19e05852a7e"
   }
  }
 },
 "nbformat": 4,
 "nbformat_minor": 2
}
